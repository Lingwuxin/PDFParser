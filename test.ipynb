{
 "cells": [
  {
   "cell_type": "code",
   "execution_count": 1,
   "metadata": {},
   "outputs": [],
   "source": [
    "from pdfparser import Parser\n",
    "from typing import List, Dict"
   ]
  },
  {
   "cell_type": "code",
   "execution_count": 2,
   "metadata": {},
   "outputs": [
    {
     "name": "stdout",
     "output_type": "stream",
     "text": [
      "False\n"
     ]
    }
   ],
   "source": [
    "parser=Parser('test.PDF')\n",
    "print(parser.header_is_find)"
   ]
  },
  {
   "cell_type": "code",
   "execution_count": 12,
   "metadata": {},
   "outputs": [
    {
     "name": "stdout",
     "output_type": "stream",
     "text": [
      "{'pagination': [35, 36], 'list': [-1, 1]}\n"
     ]
    }
   ],
   "source": [
    "def consolidate_tables(self: Parser, pagination: int, table_num: int, own_header:bool):# own_header 表示该页是否有页眉\n",
    "    def table_is_consecutive(header_msg:list[Dict[str, str]],page_words:list[Dict[str, str]],table_top:str):# 此函数用来判断下一页的第一张表格是否与上一页最后一张表格是同一张表格\n",
    "        try:\n",
    "            for word_num,header_word in enumerate(page_words):\n",
    "                if word_num <len(header_msg):\n",
    "                    if not header_msg[word_num]['text'] == header_word['text']:\n",
    "                        return False\n",
    "                else:\n",
    "                    if table_top <= header_word['top']:\n",
    "                        return True\n",
    "                    else:\n",
    "                        return False\n",
    "                    \n",
    "        except Exception as e:\n",
    "            print(e)\n",
    "            return False\n",
    "    table_statue:Dict[str,list]={\n",
    "        'pagination':[pagination],\n",
    "        'list':[table_num]\n",
    "    }\n",
    "    header_msg = self.get_header()\n",
    "    while True:\n",
    "        if not pagination+1 < self.pages_num:\n",
    "            break\n",
    "        page = self.pdf.pages[pagination+1]\n",
    "        tables = page.find_tables()\n",
    "        table_top=tables[0].bbox[1]\n",
    "        page_words=page.extract_words()\n",
    "        if table_is_consecutive(header_msg=header_msg,page_words=page_words,table_top=table_top):\n",
    "            table_statue['pagination'].append(pagination+1)\n",
    "            table_statue['list'].append(1)\n",
    "        if not len(tables) == 1:\n",
    "            break\n",
    "        pagination += 1\n",
    "    return table_statue\n",
    "\n",
    "\n",
    "print(consolidate_tables(self=parser, pagination=35, table_num=-1,own_header=True))\n"
   ]
  }
 ],
 "metadata": {
  "kernelspec": {
   "display_name": "base",
   "language": "python",
   "name": "python3"
  },
  "language_info": {
   "codemirror_mode": {
    "name": "ipython",
    "version": 3
   },
   "file_extension": ".py",
   "mimetype": "text/x-python",
   "name": "python",
   "nbconvert_exporter": "python",
   "pygments_lexer": "ipython3",
   "version": "3.9.13"
  },
  "orig_nbformat": 4,
  "vscode": {
   "interpreter": {
    "hash": "fe9b4e9bf96e5dfbe44d4cbe27229db87b931b8566acaf2bf5212635c00165fa"
   }
  }
 },
 "nbformat": 4,
 "nbformat_minor": 2
}
